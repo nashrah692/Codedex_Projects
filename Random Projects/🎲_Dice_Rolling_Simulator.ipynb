{
  "nbformat": 4,
  "nbformat_minor": 0,
  "metadata": {
    "colab": {
      "provenance": []
    },
    "kernelspec": {
      "name": "python3",
      "display_name": "Python 3"
    },
    "language_info": {
      "name": "python"
    }
  },
  "cells": [
    {
      "cell_type": "code",
      "source": [
        "import random\n",
        "\n",
        "def getNoOfDice():\n",
        "  noOfDice = int(input('Enter the number of die to roll (1-10): '))\n",
        "  print(\"\\n\")\n",
        "  while noOfDice < 1 or noOfDice > 10:\n",
        "    print(\"[!] Invalid input. Please enter a number between 1 and 10.\\n\")\n",
        "    noOfDice = int(input('Enter the number of die to roll (1-10): '))\n",
        "    print(\"\\n\")\n",
        "  return noOfDice\n",
        "\n",
        "def rollDice(noOfDice):\n",
        "  diceResults = []\n",
        "  while noOfDice != 0:\n",
        "    dice = random.randint(1, 6)\n",
        "    diceResults.append(dice)\n",
        "    noOfDice -= 1\n",
        "  return diceResults\n",
        "\n",
        "def playStart(diceRollHistory, i):\n",
        "  noOfDice = getNoOfDice()\n",
        "  diceResults = rollDice(noOfDice)\n",
        "  for j in range(1, noOfDice + 1):\n",
        "    print(f\"Die {j}: {diceResults[j-1]}\")\n",
        "    j += 1\n",
        "  i += 1\n",
        "  diceRollHistory[i] = diceResults\n",
        "  print('\\n')\n",
        "  return i\n",
        "\n",
        "def displayHistory(diceRollHistory, i):\n",
        "  print(\"Roll History:\")\n",
        "  for roll_num, results in diceRollHistory.items():\n",
        "    print(f\"Roll {roll_num}: {results}\")\n",
        "  print('\\nThankyou for using The Dice Rolling Simulator!')\n",
        "\n",
        "def askToPlayAgain(diceRollHistory, i):\n",
        "  while True:\n",
        "    playAgain = input(\"Do you want to roll dice again: (yes/no): \").lower()\n",
        "    while playAgain not in ['yes', 'no']:\n",
        "      print(\"[!] Invalid input. Please enter 'yes' or 'no'.\")\n",
        "      playAgain = input(\"Do you want to roll dice again: (yes/no): \").lower()\n",
        "    if playAgain == 'yes':\n",
        "      print(\"\\n\")\n",
        "      i = playStart(diceRollHistory, i)\n",
        "    else:\n",
        "      displayHistory(diceRollHistory, i)\n",
        "      break\n",
        "\n",
        "print(\"-------- Welcome to the Dice Rolling Simulator --------\\n\")\n",
        "\n",
        "diceRollHistory = {}\n",
        "i = 0\n",
        "i = playStart(diceRollHistory, i)\n",
        "askToPlayAgain(diceRollHistory, i)"
      ],
      "metadata": {
        "id": "puok-duRrCbW",
        "colab": {
          "base_uri": "https://localhost:8080/"
        },
        "outputId": "974493bf-f507-448e-be8b-ff1939a3164d"
      },
      "execution_count": 11,
      "outputs": [
        {
          "output_type": "stream",
          "name": "stdout",
          "text": [
            "-------- Welcome to the Dice Rolling Simulator --------\n",
            "\n",
            "Enter the number of die to roll (1-10): 4\n",
            "\n",
            "\n",
            "Die 1: 6\n",
            "Die 2: 2\n",
            "Die 3: 4\n",
            "Die 4: 1\n",
            "\n",
            "\n",
            "Do you want to roll dice again: (yes/no): yes\n",
            "\n",
            "\n",
            "Enter the number of die to roll (1-10): 4\n",
            "\n",
            "\n",
            "Die 1: 4\n",
            "Die 2: 2\n",
            "Die 3: 5\n",
            "Die 4: 1\n",
            "\n",
            "\n",
            "Do you want to roll dice again: (yes/no): yes\n",
            "\n",
            "\n",
            "Enter the number of die to roll (1-10): 6\n",
            "\n",
            "\n",
            "Die 1: 2\n",
            "Die 2: 5\n",
            "Die 3: 2\n",
            "Die 4: 2\n",
            "Die 5: 2\n",
            "Die 6: 6\n",
            "\n",
            "\n",
            "Do you want to roll dice again: (yes/no): no\n",
            "Roll History:\n",
            "Roll 1: [6, 2, 4, 1]\n",
            "Roll 2: [4, 2, 5, 1]\n",
            "Roll 3: [2, 5, 2, 2, 2, 6]\n",
            "\n",
            "Thankyou for using The Dice Rolling Simulator!\n"
          ]
        }
      ]
    },
    {
      "cell_type": "code",
      "source": [],
      "metadata": {
        "id": "KbBEY2ZmIci0"
      },
      "execution_count": null,
      "outputs": []
    }
  ]
}