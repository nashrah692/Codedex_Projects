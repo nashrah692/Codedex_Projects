{
  "nbformat": 4,
  "nbformat_minor": 0,
  "metadata": {
    "colab": {
      "provenance": []
    },
    "kernelspec": {
      "name": "python3",
      "display_name": "Python 3"
    },
    "language_info": {
      "name": "python"
    }
  },
  "cells": [
    {
      "cell_type": "code",
      "source": [
        "import random\n",
        "\n",
        "fortuneCookieMessages = [\n",
        "    'You will find great success in your next endeavor.',\n",
        "    'A pleasant surprise awaits you this week.',\n",
        "    'Embrace change, it will lead to growth.',\n",
        "    'Your curiosity will lead you to unexpected treasures.',\n",
        "    'Embrace the unknown, for it holds your next adventure.',\n",
        "    'Laughter will be your guide through life’s challenges.',\n",
        "    'A bold decision will open doors you never imagined.',\n",
        "    'Patience will turn your dreams into reality.',\n",
        "    'A new skill you learn will change your path.',\n",
        "    'Trust your heart, it knows the way forward.',\n",
        "    'Your kindness will be rewarded unexpectedly.',\n",
        "    'A new friendship will brighten your future.',\n",
        "]\n",
        "\n",
        "def generateMessage():\n",
        "  msg = random.choice(fortuneCookieMessages)\n",
        "  return msg\n",
        "\n",
        "print('------------- Welcome to Virtual Furtune Cookie Message Genrator -------------')\n",
        "\n",
        "print(\"\\n*Crack* You opened a fortune cookie...\")\n",
        "print(\"Your fortune: \" + generateMessage())\n",
        "\n",
        "while True:\n",
        "  play_again = input(\"\\nWould you like another fortune cookie? (yes/no): \").lower()\n",
        "  print(\"\\n\")\n",
        "  while play_again not in ['yes', 'no']:\n",
        "    print(\"Please enter 'yes' or 'no'.\")\n",
        "    play_again = input(\"Would you like another fortune cookie? (yes/no): \").lower()\n",
        "    print(\"\\n\")\n",
        "  if play_again == 'yes':\n",
        "    print(\"*Crack* You opened a fortune cookie...\")\n",
        "    print(\"Your fortune: \" + generateMessage())\n",
        "  elif play_again == 'no':\n",
        "    break\n",
        "print(\"\\nThank you for opening fortune cookies! Goodbye\")"
      ],
      "metadata": {
        "id": "ikNrTQMlxZ3A",
        "colab": {
          "base_uri": "https://localhost:8080/"
        },
        "outputId": "9e8af99b-6f7a-40ca-86ed-17e8413f8cbd"
      },
      "execution_count": 2,
      "outputs": [
        {
          "output_type": "stream",
          "name": "stdout",
          "text": [
            "------------- Welcome to Virtual Furtune Cookie Message Genrator -------------\n",
            "\n",
            "*Crack* You opened a fortune cookie...\n",
            "Your fortune: Trust your heart, it knows the way forward.\n",
            "\n",
            "Would you like another fortune cookie? (yes/no): yes\n",
            "\n",
            "\n",
            "*Crack* You opened a fortune cookie...\n",
            "Your fortune: A pleasant surprise awaits you this week.\n",
            "\n",
            "Would you like another fortune cookie? (yes/no): yes\n",
            "\n",
            "\n",
            "*Crack* You opened a fortune cookie...\n",
            "Your fortune: A new skill you learn will change your path.\n",
            "\n",
            "Would you like another fortune cookie? (yes/no): yes\n",
            "\n",
            "\n",
            "*Crack* You opened a fortune cookie...\n",
            "Your fortune: Patience will turn your dreams into reality.\n",
            "\n",
            "Would you like another fortune cookie? (yes/no): no\n",
            "\n",
            "\n",
            "\n",
            "Thank you for opening fortune cookies! Goodbye\n"
          ]
        }
      ]
    },
    {
      "cell_type": "code",
      "source": [],
      "metadata": {
        "id": "z3Dea7x33MKP"
      },
      "execution_count": null,
      "outputs": []
    }
  ]
}