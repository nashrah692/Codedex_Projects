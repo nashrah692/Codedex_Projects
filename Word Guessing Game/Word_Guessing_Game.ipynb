{
  "nbformat": 4,
  "nbformat_minor": 0,
  "metadata": {
    "colab": {
      "provenance": []
    },
    "kernelspec": {
      "name": "python3",
      "display_name": "Python 3"
    },
    "language_info": {
      "name": "python"
    }
  },
  "cells": [
    {
      "cell_type": "code",
      "execution_count": 16,
      "metadata": {
        "id": "g60sZmXc49Sq"
      },
      "outputs": [],
      "source": [
        "import random"
      ]
    },
    {
      "cell_type": "code",
      "source": [
        "word_bank = ['rizz', 'ohio', 'sigma', 'tiktok', 'skibidi']"
      ],
      "metadata": {
        "id": "flxIFVuI5hMh"
      },
      "execution_count": 17,
      "outputs": []
    },
    {
      "cell_type": "code",
      "source": [
        "word = random.choice(word_bank)"
      ],
      "metadata": {
        "id": "BM_53O5b5ji2"
      },
      "execution_count": 18,
      "outputs": []
    },
    {
      "cell_type": "code",
      "source": [
        "guessedWord = ['_'] * len(word)"
      ],
      "metadata": {
        "id": "RaMS0VY65k-h"
      },
      "execution_count": 19,
      "outputs": []
    },
    {
      "cell_type": "code",
      "source": [
        "attempts = 10"
      ],
      "metadata": {
        "id": "zT3i5EWz5q2F"
      },
      "execution_count": 20,
      "outputs": []
    },
    {
      "cell_type": "code",
      "source": [
        "while attempts > 0:\n",
        "\n",
        "    print('\\nCurrent word: ' + ' '.join(guessedWord))\n",
        "\n",
        "    guess = input('Guess a letter: ').lower()\n",
        "\n",
        "    if guess in word:\n",
        "        for i in range(len(word)):\n",
        "            if word[i] == guess:\n",
        "                guessedWord[i] = guess\n",
        "        print('Great guess!')\n",
        "    else:\n",
        "        attempts -= 1\n",
        "        print('Wrong guess! Attempts left: ' + str(attempts))\n",
        "    if '_' not in guessedWord:\n",
        "        break\n",
        "if '_' not in guessedWord:\n",
        "  print('\\nCongratulations!! You guessed the word: ' + word)\n",
        "else:\n",
        "  print('\\nYou\\'ve run out of attempts! The word was: ' + word)"
      ],
      "metadata": {
        "colab": {
          "base_uri": "https://localhost:8080/"
        },
        "id": "KV3ecgm-5zXy",
        "outputId": "509180de-70e3-4ea4-fc83-a1c4a1c26a25"
      },
      "execution_count": 21,
      "outputs": [
        {
          "output_type": "stream",
          "name": "stdout",
          "text": [
            "\n",
            "Current word: _ _ _ _ _ _ _\n",
            "Guess a letter: g\n",
            "Wrong guess! Attempts left: 9\n",
            "\n",
            "Current word: _ _ _ _ _ _ _\n",
            "Guess a letter: b\n",
            "Great guess!\n",
            "\n",
            "Current word: _ _ _ b _ _ _\n",
            "Guess a letter: s\n",
            "Great guess!\n",
            "\n",
            "Current word: s _ _ b _ _ _\n",
            "Guess a letter: k\n",
            "Great guess!\n",
            "\n",
            "Current word: s k _ b _ _ _\n",
            "Guess a letter: i\n",
            "Great guess!\n",
            "\n",
            "Current word: s k i b i _ i\n",
            "Guess a letter: d\n",
            "Great guess!\n",
            "\n",
            "Congratulations!! You guessed the word: skibidi\n"
          ]
        }
      ]
    },
    {
      "cell_type": "code",
      "source": [],
      "metadata": {
        "id": "aon9Cyxi6Swx"
      },
      "execution_count": null,
      "outputs": []
    }
  ]
}