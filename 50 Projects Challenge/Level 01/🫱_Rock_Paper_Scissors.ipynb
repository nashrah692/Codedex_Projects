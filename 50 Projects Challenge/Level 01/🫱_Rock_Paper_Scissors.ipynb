{
  "nbformat": 4,
  "nbformat_minor": 0,
  "metadata": {
    "colab": {
      "provenance": []
    },
    "kernelspec": {
      "name": "python3",
      "display_name": "Python 3"
    },
    "language_info": {
      "name": "python"
    }
  },
  "cells": [
    {
      "cell_type": "code",
      "source": [
        "import random\n",
        "\n",
        "def chooseTurnWinner(playerChoice, computerChoice, playerScore, computerScore):\n",
        "  print(f\"You chose '{playerChoice}' and Computer chose '{computerChoice}'\")\n",
        "  if playerChoice == computerChoice:\n",
        "    print(\"It's a tie!\")\n",
        "  elif (playerChoice == \"rock\" and computerChoice == \"scissors\") or \\\n",
        "       (playerChoice == \"paper\" and computerChoice == \"rock\") or \\\n",
        "       (playerChoice == \"scissors\" and computerChoice == \"paper\"):\n",
        "    print(\"You won this round!\")\n",
        "    playerScore += 1\n",
        "  else:\n",
        "    print(\"Computer wwon this round!\")\n",
        "    computerScore += 1\n",
        "  return playerScore, computerScore\n",
        "\n",
        "\n",
        "def getComputerChoice():\n",
        "  return random.choice([\"rock\", \"paper\", \"scissors\"])\n",
        "\n",
        "def getPlayerChoice():\n",
        "  choice = input(\"Enter your choice ['rock', 'paper', 'scissors']: \").lower()\n",
        "  print(\"\\n\")\n",
        "  validChoices = [\"rock\", \"paper\", \"scissors\"]\n",
        "  while choice not in validChoices:\n",
        "    print(\"[!] Invalid choice. Try again.\")\n",
        "    choice = input(\"Enter your choice ['rock', 'paper', 'scissors']: \").lower()\n",
        "    print(\"\\n\")\n",
        "  return choice\n",
        "\n",
        "def askToPlayAgain():\n",
        "  play = input(\"Do you want to play again ['yes', 'no']: \").lower()\n",
        "  print(\"\\n\")\n",
        "  validPlayChoices = [\"yes\", \"no\"]\n",
        "  while play not in validPlayChoices:\n",
        "    print(\"[!] Invalid choice. Try again.\")\n",
        "    play = input(\"Do you want to play again ['yes', 'no']: \").lower()\n",
        "    print(\"\\n\")\n",
        "  return play\n",
        "\n",
        "def declareWinner(playerScore, computerScore):\n",
        "  print(\"*** FINAL SCORE ***\")\n",
        "  print(\"Player Score: \", playerScore)\n",
        "  print(\"Computer Score: \", computerScore)\n",
        "  if playerScore > computerScore:\n",
        "    print(\"You're the champion! 🏆\\n\")\n",
        "  elif computerScore > playerScore:\n",
        "    print(\"The computer takes the crown this time! 🤖\\n\")\n",
        "  else:\n",
        "    print(\"It's a tie! Well played! 😄\\n\")\n",
        "  print(\"Thanks for playing!\")\n",
        "\n",
        "computerScore = 0\n",
        "playerScore = 0\n",
        "\n",
        "print(\"------------ Welcome to Rock Paper Scissors Virtual Game ------------\\n\")\n",
        "while True:\n",
        "  computerChoice = getComputerChoice()\n",
        "  playerChoice = getPlayerChoice()\n",
        "\n",
        "  playerScore, computerScore = chooseTurnWinner(playerChoice, computerChoice, playerScore, computerScore)\n",
        "  print(f\"Player Score: {playerScore}, Computer Score: {computerScore}\\n\")\n",
        "\n",
        "  play = askToPlayAgain()\n",
        "  if play == \"yes\":\n",
        "    continue\n",
        "  elif play == \"no\":\n",
        "    declareWinner(playerScore, computerScore)\n",
        "    break"
      ],
      "metadata": {
        "id": "puok-duRrCbW",
        "colab": {
          "base_uri": "https://localhost:8080/"
        },
        "outputId": "b08340f1-bbdd-412f-d180-a49343cad87c"
      },
      "execution_count": 6,
      "outputs": [
        {
          "output_type": "stream",
          "name": "stdout",
          "text": [
            "------------ Welcome to Rock Paper Scissors Virtual Game ------------\n",
            "\n",
            "Enter your choice ['rock', 'paper', 'scissors']: rock\n",
            "\n",
            "\n",
            "You chose 'rock' and Computer chose 'paper'\n",
            "Computer wwon this round!\n",
            "Player Score: 0, Computer Score: 1\n",
            "\n",
            "Do you want to play again ['yes', 'no']: yes\n",
            "\n",
            "\n",
            "Enter your choice ['rock', 'paper', 'scissors']: scissors\n",
            "\n",
            "\n",
            "You chose 'scissors' and Computer chose 'paper'\n",
            "You won this round!\n",
            "Player Score: 1, Computer Score: 1\n",
            "\n",
            "Do you want to play again ['yes', 'no']: yes\n",
            "\n",
            "\n",
            "Enter your choice ['rock', 'paper', 'scissors']: rock\n",
            "\n",
            "\n",
            "You chose 'rock' and Computer chose 'scissors'\n",
            "You won this round!\n",
            "Player Score: 2, Computer Score: 1\n",
            "\n",
            "Do you want to play again ['yes', 'no']: no\n",
            "\n",
            "\n",
            "*** FINAL SCORE ***\n",
            "Player Score:  2\n",
            "Computer Score:  1\n",
            "You're the champion! 🏆\n",
            "\n",
            "Thanks for playing!\n"
          ]
        }
      ]
    },
    {
      "cell_type": "code",
      "source": [],
      "metadata": {
        "id": "-s4_w1S3yNoQ"
      },
      "execution_count": null,
      "outputs": []
    }
  ]
}