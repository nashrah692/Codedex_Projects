{
  "nbformat": 4,
  "nbformat_minor": 0,
  "metadata": {
    "colab": {
      "provenance": []
    },
    "kernelspec": {
      "name": "python3",
      "display_name": "Python 3"
    },
    "language_info": {
      "name": "python"
    }
  },
  "cells": [
    {
      "cell_type": "code",
      "execution_count": 2,
      "metadata": {
        "colab": {
          "base_uri": "https://localhost:8080/"
        },
        "id": "3u6VHF_E2Xdq",
        "outputId": "f6ba67e6-89a2-4ebf-9fc4-e0da38843814"
      },
      "outputs": [
        {
          "output_type": "stream",
          "name": "stdout",
          "text": [
            "Requirement already satisfied: imageio in /usr/local/lib/python3.11/dist-packages (2.37.0)\n",
            "Requirement already satisfied: numpy in /usr/local/lib/python3.11/dist-packages (from imageio) (2.0.2)\n",
            "Requirement already satisfied: pillow>=8.3.2 in /usr/local/lib/python3.11/dist-packages (from imageio) (11.2.1)\n"
          ]
        }
      ],
      "source": [
        "pip install imageio"
      ]
    },
    {
      "cell_type": "code",
      "source": [
        "import imageio.v3 as iio"
      ],
      "metadata": {
        "id": "DMiD_M3X2jB7"
      },
      "execution_count": 3,
      "outputs": []
    },
    {
      "cell_type": "code",
      "source": [
        "filenames = ['team-pic1.png', 'team-pic2.png']\n",
        "images = [ ]"
      ],
      "metadata": {
        "id": "zuYdz-HT2umJ"
      },
      "execution_count": 4,
      "outputs": []
    },
    {
      "cell_type": "code",
      "source": [
        "for filename in filenames:\n",
        "  images.append(iio.imread(filename))"
      ],
      "metadata": {
        "id": "EykDcMol3MUV"
      },
      "execution_count": 5,
      "outputs": []
    },
    {
      "cell_type": "markdown",
      "source": [
        "Let’s use the .imwrite() method to turn the images into a GIF. This takes in four arguments:\n",
        "\n",
        "- 'team.gif': This is the name you want to give to your new GIF file.\n",
        "- images: The list containing the image data.\n",
        "- duration = 500: How long each picture should show in the GIF, in milliseconds.\n",
        "- loop = 0: How many times the GIF should repeat (0 means it keeps looping forever)."
      ],
      "metadata": {
        "id": "IhRv7k4G3hsD"
      }
    },
    {
      "cell_type": "code",
      "source": [
        "iio.imwrite('team.gif', images, duration = 500, loop = 0)"
      ],
      "metadata": {
        "id": "-I-ZdhR13O0S"
      },
      "execution_count": 6,
      "outputs": []
    },
    {
      "cell_type": "code",
      "source": [],
      "metadata": {
        "id": "xZeMfmkB3T5Z"
      },
      "execution_count": null,
      "outputs": []
    }
  ]
}